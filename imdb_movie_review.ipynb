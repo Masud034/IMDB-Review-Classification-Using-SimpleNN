{
  "nbformat": 4,
  "nbformat_minor": 0,
  "metadata": {
    "colab": {
      "name": "imdb_movie_review.ipynb",
      "provenance": []
    },
    "kernelspec": {
      "name": "python3",
      "display_name": "Python 3"
    },
    "accelerator": "GPU"
  },
  "cells": [
    {
      "cell_type": "code",
      "metadata": {
        "id": "VH9ehOM7jynp"
      },
      "source": [
        "import tensorflow as tf\n",
        "from tensorflow import keras\n",
        "from keras.models import Sequential\n",
        "import numpy as np"
      ],
      "execution_count": 1,
      "outputs": []
    },
    {
      "cell_type": "code",
      "metadata": {
        "id": "LyaNt1eSkt6n",
        "outputId": "9731bd1d-6fe8-42dd-eaf6-12aadad6e836",
        "colab": {
          "base_uri": "https://localhost:8080/",
          "height": 34
        }
      },
      "source": [
        " #loading the dataset and creating a dictionary of 10000 most frequently used words\n",
        "imdb = keras.datasets.imdb\n",
        "(train_data,train_label),(test_data,test_label) = imdb.load_data(num_words = 10000)\n",
        "test_data.shape"
      ],
      "execution_count": 2,
      "outputs": [
        {
          "output_type": "execute_result",
          "data": {
            "text/plain": [
              "(25000,)"
            ]
          },
          "metadata": {
            "tags": []
          },
          "execution_count": 2
        }
      ]
    },
    {
      "cell_type": "code",
      "metadata": {
        "id": "hYtJE9edlOUo"
      },
      "source": [
        "#ensuiring all the samples are in same length by applying padding\n",
        "train_data = keras.preprocessing.sequence.pad_sequences(train_data,value=0,padding='post',maxlen=250)\n",
        "test_data = keras.preprocessing.sequence.pad_sequences(train_data,value=0,padding='post',maxlen=250)"
      ],
      "execution_count": 3,
      "outputs": []
    },
    {
      "cell_type": "code",
      "metadata": {
        "id": "Q7WBAapXlr5Q"
      },
      "source": [
        "model = Sequential()\n",
        "model.add(keras.layers.Embedding(input_dim=10000,output_dim=64,input_length=250))\n",
        "model.add(keras.layers.Flatten())\n",
        "model.add(keras.layers.Dense(128,activation='relu'))\n",
        "model.add(keras.layers.Dense(1,activation = 'sigmoid'))"
      ],
      "execution_count": 4,
      "outputs": []
    },
    {
      "cell_type": "code",
      "metadata": {
        "id": "7tQyu_-1VMuh",
        "outputId": "8a9e5f40-1069-4360-c98d-42ed328ef386",
        "colab": {
          "base_uri": "https://localhost:8080/",
          "height": 295
        }
      },
      "source": [
        " model.summary()"
      ],
      "execution_count": 5,
      "outputs": [
        {
          "output_type": "stream",
          "text": [
            "Model: \"sequential\"\n",
            "_________________________________________________________________\n",
            "Layer (type)                 Output Shape              Param #   \n",
            "=================================================================\n",
            "embedding (Embedding)        (None, 250, 64)           640000    \n",
            "_________________________________________________________________\n",
            "flatten (Flatten)            (None, 16000)             0         \n",
            "_________________________________________________________________\n",
            "dense (Dense)                (None, 128)               2048128   \n",
            "_________________________________________________________________\n",
            "dense_1 (Dense)              (None, 1)                 129       \n",
            "=================================================================\n",
            "Total params: 2,688,257\n",
            "Trainable params: 2,688,257\n",
            "Non-trainable params: 0\n",
            "_________________________________________________________________\n"
          ],
          "name": "stdout"
        }
      ]
    },
    {
      "cell_type": "code",
      "metadata": {
        "id": "UQts26JCWgws"
      },
      "source": [
        "model.compile(loss='binary_crossentropy', optimizer='Adam', metrics=['accuracy','Recall'])"
      ],
      "execution_count": 6,
      "outputs": []
    },
    {
      "cell_type": "code",
      "metadata": {
        "id": "f55PaftAXOdz",
        "outputId": "c64c74bc-484d-4071-d83e-21cd3ac72330",
        "colab": {
          "base_uri": "https://localhost:8080/",
          "height": 384
        }
      },
      "source": [
        "#splitting the training data into training and validation set\n",
        "splitation_point = 15000\n",
        "x_train = train_data[:splitation_point]\n",
        "y_train = train_label[:splitation_point]\n",
        "\n",
        "val_data = train_data[splitation_point:]\n",
        "y_val = train_label[splitation_point:]\n",
        "\n",
        "history = model.fit(x_train,y_train, epochs=10 ,batch_size=32, validation_data=(val_data,y_val))"
      ],
      "execution_count": 7,
      "outputs": [
        {
          "output_type": "stream",
          "text": [
            "Epoch 1/10\n",
            "469/469 [==============================] - 6s 13ms/step - loss: 0.4464 - accuracy: 0.7728 - recall: 0.7857 - val_loss: 0.3174 - val_accuracy: 0.8665 - val_recall: 0.8619\n",
            "Epoch 2/10\n",
            "469/469 [==============================] - 6s 12ms/step - loss: 0.0761 - accuracy: 0.9745 - recall: 0.9772 - val_loss: 0.4516 - val_accuracy: 0.8395 - val_recall: 0.9160\n",
            "Epoch 3/10\n",
            "469/469 [==============================] - 6s 12ms/step - loss: 0.0071 - accuracy: 0.9989 - recall: 0.9984 - val_loss: 0.5470 - val_accuracy: 0.8463 - val_recall: 0.8738\n",
            "Epoch 4/10\n",
            "469/469 [==============================] - 6s 12ms/step - loss: 7.2126e-04 - accuracy: 1.0000 - recall: 1.0000 - val_loss: 0.5595 - val_accuracy: 0.8572 - val_recall: 0.8613\n",
            "Epoch 5/10\n",
            "469/469 [==============================] - 6s 12ms/step - loss: 2.2704e-04 - accuracy: 1.0000 - recall: 1.0000 - val_loss: 0.5820 - val_accuracy: 0.8574 - val_recall: 0.8544\n",
            "Epoch 6/10\n",
            "469/469 [==============================] - 6s 13ms/step - loss: 1.3143e-04 - accuracy: 1.0000 - recall: 1.0000 - val_loss: 0.6008 - val_accuracy: 0.8579 - val_recall: 0.8593\n",
            "Epoch 7/10\n",
            "469/469 [==============================] - 6s 12ms/step - loss: 8.7447e-05 - accuracy: 1.0000 - recall: 1.0000 - val_loss: 0.6178 - val_accuracy: 0.8584 - val_recall: 0.8603\n",
            "Epoch 8/10\n",
            "469/469 [==============================] - 6s 12ms/step - loss: 6.0153e-05 - accuracy: 1.0000 - recall: 1.0000 - val_loss: 0.6332 - val_accuracy: 0.8586 - val_recall: 0.8587\n",
            "Epoch 9/10\n",
            "469/469 [==============================] - 6s 13ms/step - loss: 4.2357e-05 - accuracy: 1.0000 - recall: 1.0000 - val_loss: 0.6480 - val_accuracy: 0.8586 - val_recall: 0.8569\n",
            "Epoch 10/10\n",
            "469/469 [==============================] - 6s 13ms/step - loss: 3.0964e-05 - accuracy: 1.0000 - recall: 1.0000 - val_loss: 0.6622 - val_accuracy: 0.8591 - val_recall: 0.8623\n"
          ],
          "name": "stdout"
        }
      ]
    },
    {
      "cell_type": "code",
      "metadata": {
        "id": "hV7iiG6bXSds",
        "outputId": "31128fdc-20e3-4c30-bd5b-b6b92751f1c5",
        "colab": {
          "base_uri": "https://localhost:8080/",
          "height": 52
        }
      },
      "source": [
        "result = model.evaluate(test_data,test_label) \n",
        "print(result) "
      ],
      "execution_count": 8,
      "outputs": [
        {
          "output_type": "stream",
          "text": [
            "782/782 [==============================] - 2s 3ms/step - loss: 6.1633 - accuracy: 0.4960 - recall: 0.4976\n",
            "[6.163302421569824, 0.495959997177124, 0.4975999891757965]\n"
          ],
          "name": "stdout"
        }
      ]
    },
    {
      "cell_type": "code",
      "metadata": {
        "id": "b3YS40edd5I_"
      },
      "source": [
        ""
      ],
      "execution_count": 8,
      "outputs": []
    }
  ]
}